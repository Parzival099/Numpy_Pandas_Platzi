{
  "nbformat": 4,
  "nbformat_minor": 0,
  "metadata": {
    "colab": {
      "name": "Series_Dataframes.ipynb",
      "provenance": [],
      "collapsed_sections": []
    },
    "kernelspec": {
      "name": "python3",
      "display_name": "Python 3"
    },
    "language_info": {
      "name": "python"
    }
  },
  "cells": [
    {
      "cell_type": "markdown",
      "source": [
        "### Importar librería"
      ],
      "metadata": {
        "id": "0Z7_7C6uf5dc"
      }
    },
    {
      "cell_type": "code",
      "execution_count": 3,
      "metadata": {
        "id": "GMNdwkPAxp1p"
      },
      "outputs": [],
      "source": [
        "import pandas as pd "
      ]
    },
    {
      "cell_type": "markdown",
      "source": [
        "### Crear serie"
      ],
      "metadata": {
        "id": "KIiehbYLf97T"
      }
    },
    {
      "cell_type": "code",
      "source": [
        "psg_players = pd.Series(['Navas','Mbappe','Neymar','Messi'],\n",
        "          index=[1,7,10,30]\n",
        "          )"
      ],
      "metadata": {
        "id": "0Xq5zQKByE8q"
      },
      "execution_count": null,
      "outputs": []
    },
    {
      "cell_type": "code",
      "source": [
        "psg_players"
      ],
      "metadata": {
        "colab": {
          "base_uri": "https://localhost:8080/"
        },
        "id": "qbSK1yxrydb1",
        "outputId": "576dcfe7-a141-419f-ac0e-66b7d62c6632"
      },
      "execution_count": null,
      "outputs": [
        {
          "output_type": "execute_result",
          "data": {
            "text/plain": [
              "1      Navas\n",
              "7     Mbappe\n",
              "10    Neymar\n",
              "30     Messi\n",
              "dtype: object"
            ]
          },
          "metadata": {},
          "execution_count": 5
        }
      ]
    },
    {
      "cell_type": "code",
      "source": [
        "psg_players = pd.Series(['Navas','Mbappe','Neymar','Messi']\n",
        "          )"
      ],
      "metadata": {
        "id": "iRg2F1JDyiWD"
      },
      "execution_count": null,
      "outputs": []
    },
    {
      "cell_type": "code",
      "source": [
        "dict = {1:'Navas',7:'Mbappe',10:'Neymar',30:'Messi'}\n",
        "pd.Series(dict)"
      ],
      "metadata": {
        "colab": {
          "base_uri": "https://localhost:8080/"
        },
        "id": "xouUYTWPymYl",
        "outputId": "cafee8af-2db0-4cb2-e721-cc146276a770"
      },
      "execution_count": null,
      "outputs": [
        {
          "output_type": "execute_result",
          "data": {
            "text/plain": [
              "1      Navas\n",
              "7     Mbappe\n",
              "10    Neymar\n",
              "30     Messi\n",
              "dtype: object"
            ]
          },
          "metadata": {},
          "execution_count": 9
        }
      ]
    },
    {
      "cell_type": "code",
      "source": [
        "psg_players[0:3]"
      ],
      "metadata": {
        "colab": {
          "base_uri": "https://localhost:8080/"
        },
        "id": "IssCF7z9y9np",
        "outputId": "aa8149c1-3553-4544-c4f7-17e829f6483e"
      },
      "execution_count": null,
      "outputs": [
        {
          "output_type": "execute_result",
          "data": {
            "text/plain": [
              "0     Navas\n",
              "1    Mbappe\n",
              "2    Neymar\n",
              "dtype: object"
            ]
          },
          "metadata": {},
          "execution_count": 15
        }
      ]
    },
    {
      "cell_type": "markdown",
      "source": [
        "### Crear DataFrame"
      ],
      "metadata": {
        "id": "3dPSiJIwgDXk"
      }
    },
    {
      "cell_type": "code",
      "source": [
        "dict = {'Jugador':['Luis Suárez','Jorge Molina', 'Antonio Puertas', 'Germán Sánchez', 'Luis Milla', 'Luís Manuel Arantes Maximiano'],\n",
        "\n",
        "'Posición':['Delantero', 'Delantero', 'Centrocampista', 'Defensa', 'Centrocampista', 'Portero'],\n",
        "\n",
        "'Número':[9, 23, 10, 6, 5, 1],\n",
        "\n",
        "'Altura':[185.0, 187.0, 185.0, 187.0, 175.0, 190.0],\n",
        "\n",
        "'Goles':[7, 7, 5, 2, 2, 0],\n",
        " }"
      ],
      "metadata": {
        "id": "Ifvu5MqUzFsV"
      },
      "execution_count": 1,
      "outputs": []
    },
    {
      "cell_type": "code",
      "source": [
        "df_Players = pd.DataFrame(dict,index=[9, 23, 10, 6, 5, 1])\n",
        "df_Players"
      ],
      "metadata": {
        "id": "33QNXn8L1js2",
        "outputId": "bf7d7f67-5ff8-409f-885d-ed70b4dc96a3",
        "colab": {
          "base_uri": "https://localhost:8080/",
          "height": 237
        }
      },
      "execution_count": 6,
      "outputs": [
        {
          "output_type": "execute_result",
          "data": {
            "text/plain": [
              "                          Jugador        Posición  Número  Altura  Goles\n",
              "9                     Luis Suárez       Delantero       9   185.0      7\n",
              "23                   Jorge Molina       Delantero      23   187.0      7\n",
              "10                Antonio Puertas  Centrocampista      10   185.0      5\n",
              "6                  Germán Sánchez         Defensa       6   187.0      2\n",
              "5                      Luis Milla  Centrocampista       5   175.0      2\n",
              "1   Luís Manuel Arantes Maximiano         Portero       1   190.0      0"
            ],
            "text/html": [
              "\n",
              "  <div id=\"df-3a3534b6-ebf0-44c8-b447-9c69e5c6c84e\">\n",
              "    <div class=\"colab-df-container\">\n",
              "      <div>\n",
              "<style scoped>\n",
              "    .dataframe tbody tr th:only-of-type {\n",
              "        vertical-align: middle;\n",
              "    }\n",
              "\n",
              "    .dataframe tbody tr th {\n",
              "        vertical-align: top;\n",
              "    }\n",
              "\n",
              "    .dataframe thead th {\n",
              "        text-align: right;\n",
              "    }\n",
              "</style>\n",
              "<table border=\"1\" class=\"dataframe\">\n",
              "  <thead>\n",
              "    <tr style=\"text-align: right;\">\n",
              "      <th></th>\n",
              "      <th>Jugador</th>\n",
              "      <th>Posición</th>\n",
              "      <th>Número</th>\n",
              "      <th>Altura</th>\n",
              "      <th>Goles</th>\n",
              "    </tr>\n",
              "  </thead>\n",
              "  <tbody>\n",
              "    <tr>\n",
              "      <th>9</th>\n",
              "      <td>Luis Suárez</td>\n",
              "      <td>Delantero</td>\n",
              "      <td>9</td>\n",
              "      <td>185.0</td>\n",
              "      <td>7</td>\n",
              "    </tr>\n",
              "    <tr>\n",
              "      <th>23</th>\n",
              "      <td>Jorge Molina</td>\n",
              "      <td>Delantero</td>\n",
              "      <td>23</td>\n",
              "      <td>187.0</td>\n",
              "      <td>7</td>\n",
              "    </tr>\n",
              "    <tr>\n",
              "      <th>10</th>\n",
              "      <td>Antonio Puertas</td>\n",
              "      <td>Centrocampista</td>\n",
              "      <td>10</td>\n",
              "      <td>185.0</td>\n",
              "      <td>5</td>\n",
              "    </tr>\n",
              "    <tr>\n",
              "      <th>6</th>\n",
              "      <td>Germán Sánchez</td>\n",
              "      <td>Defensa</td>\n",
              "      <td>6</td>\n",
              "      <td>187.0</td>\n",
              "      <td>2</td>\n",
              "    </tr>\n",
              "    <tr>\n",
              "      <th>5</th>\n",
              "      <td>Luis Milla</td>\n",
              "      <td>Centrocampista</td>\n",
              "      <td>5</td>\n",
              "      <td>175.0</td>\n",
              "      <td>2</td>\n",
              "    </tr>\n",
              "    <tr>\n",
              "      <th>1</th>\n",
              "      <td>Luís Manuel Arantes Maximiano</td>\n",
              "      <td>Portero</td>\n",
              "      <td>1</td>\n",
              "      <td>190.0</td>\n",
              "      <td>0</td>\n",
              "    </tr>\n",
              "  </tbody>\n",
              "</table>\n",
              "</div>\n",
              "      <button class=\"colab-df-convert\" onclick=\"convertToInteractive('df-3a3534b6-ebf0-44c8-b447-9c69e5c6c84e')\"\n",
              "              title=\"Convert this dataframe to an interactive table.\"\n",
              "              style=\"display:none;\">\n",
              "        \n",
              "  <svg xmlns=\"http://www.w3.org/2000/svg\" height=\"24px\"viewBox=\"0 0 24 24\"\n",
              "       width=\"24px\">\n",
              "    <path d=\"M0 0h24v24H0V0z\" fill=\"none\"/>\n",
              "    <path d=\"M18.56 5.44l.94 2.06.94-2.06 2.06-.94-2.06-.94-.94-2.06-.94 2.06-2.06.94zm-11 1L8.5 8.5l.94-2.06 2.06-.94-2.06-.94L8.5 2.5l-.94 2.06-2.06.94zm10 10l.94 2.06.94-2.06 2.06-.94-2.06-.94-.94-2.06-.94 2.06-2.06.94z\"/><path d=\"M17.41 7.96l-1.37-1.37c-.4-.4-.92-.59-1.43-.59-.52 0-1.04.2-1.43.59L10.3 9.45l-7.72 7.72c-.78.78-.78 2.05 0 2.83L4 21.41c.39.39.9.59 1.41.59.51 0 1.02-.2 1.41-.59l7.78-7.78 2.81-2.81c.8-.78.8-2.07 0-2.86zM5.41 20L4 18.59l7.72-7.72 1.47 1.35L5.41 20z\"/>\n",
              "  </svg>\n",
              "      </button>\n",
              "      \n",
              "  <style>\n",
              "    .colab-df-container {\n",
              "      display:flex;\n",
              "      flex-wrap:wrap;\n",
              "      gap: 12px;\n",
              "    }\n",
              "\n",
              "    .colab-df-convert {\n",
              "      background-color: #E8F0FE;\n",
              "      border: none;\n",
              "      border-radius: 50%;\n",
              "      cursor: pointer;\n",
              "      display: none;\n",
              "      fill: #1967D2;\n",
              "      height: 32px;\n",
              "      padding: 0 0 0 0;\n",
              "      width: 32px;\n",
              "    }\n",
              "\n",
              "    .colab-df-convert:hover {\n",
              "      background-color: #E2EBFA;\n",
              "      box-shadow: 0px 1px 2px rgba(60, 64, 67, 0.3), 0px 1px 3px 1px rgba(60, 64, 67, 0.15);\n",
              "      fill: #174EA6;\n",
              "    }\n",
              "\n",
              "    [theme=dark] .colab-df-convert {\n",
              "      background-color: #3B4455;\n",
              "      fill: #D2E3FC;\n",
              "    }\n",
              "\n",
              "    [theme=dark] .colab-df-convert:hover {\n",
              "      background-color: #434B5C;\n",
              "      box-shadow: 0px 1px 3px 1px rgba(0, 0, 0, 0.15);\n",
              "      filter: drop-shadow(0px 1px 2px rgba(0, 0, 0, 0.3));\n",
              "      fill: #FFFFFF;\n",
              "    }\n",
              "  </style>\n",
              "\n",
              "      <script>\n",
              "        const buttonEl =\n",
              "          document.querySelector('#df-3a3534b6-ebf0-44c8-b447-9c69e5c6c84e button.colab-df-convert');\n",
              "        buttonEl.style.display =\n",
              "          google.colab.kernel.accessAllowed ? 'block' : 'none';\n",
              "\n",
              "        async function convertToInteractive(key) {\n",
              "          const element = document.querySelector('#df-3a3534b6-ebf0-44c8-b447-9c69e5c6c84e');\n",
              "          const dataTable =\n",
              "            await google.colab.kernel.invokeFunction('convertToInteractive',\n",
              "                                                     [key], {});\n",
              "          if (!dataTable) return;\n",
              "\n",
              "          const docLinkHtml = 'Like what you see? Visit the ' +\n",
              "            '<a target=\"_blank\" href=https://colab.research.google.com/notebooks/data_table.ipynb>data table notebook</a>'\n",
              "            + ' to learn more about interactive tables.';\n",
              "          element.innerHTML = '';\n",
              "          dataTable['output_type'] = 'display_data';\n",
              "          await google.colab.output.renderOutput(dataTable, element);\n",
              "          const docLink = document.createElement('div');\n",
              "          docLink.innerHTML = docLinkHtml;\n",
              "          element.appendChild(docLink);\n",
              "        }\n",
              "      </script>\n",
              "    </div>\n",
              "  </div>\n",
              "  "
            ]
          },
          "metadata": {},
          "execution_count": 6
        }
      ]
    },
    {
      "cell_type": "code",
      "source": [
        "df_Players.columns"
      ],
      "metadata": {
        "colab": {
          "base_uri": "https://localhost:8080/"
        },
        "id": "qh6DkfU-11gD",
        "outputId": "0465fa7f-957a-4116-b284-49505228f569"
      },
      "execution_count": null,
      "outputs": [
        {
          "output_type": "execute_result",
          "data": {
            "text/plain": [
              "Index(['Jugador', 'Altura', 'Goles'], dtype='object')"
            ]
          },
          "metadata": {},
          "execution_count": 27
        }
      ]
    },
    {
      "cell_type": "code",
      "source": [
        "df_Players.index"
      ],
      "metadata": {
        "id": "S2nfzikN17J8",
        "outputId": "464f142a-fdaa-4902-ac09-920bbbdcd2c1",
        "colab": {
          "base_uri": "https://localhost:8080/"
        }
      },
      "execution_count": null,
      "outputs": [
        {
          "output_type": "execute_result",
          "data": {
            "text/plain": [
              "Int64Index([1, 7, 10, 30], dtype='int64')"
            ]
          },
          "metadata": {},
          "execution_count": 28
        }
      ]
    }
  ]
}